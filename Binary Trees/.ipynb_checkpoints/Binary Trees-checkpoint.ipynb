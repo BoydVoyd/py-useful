{
 "cells": [
  {
   "cell_type": "code",
   "execution_count": 1,
   "metadata": {},
   "outputs": [
    {
     "ename": "ModuleNotFoundError",
     "evalue": "No module named 'Queue'",
     "output_type": "error",
     "traceback": [
      "\u001b[0;31m---------------------------------------------------------------------------\u001b[0m",
      "\u001b[0;31mModuleNotFoundError\u001b[0m                       Traceback (most recent call last)",
      "\u001b[0;32m<ipython-input-1-a0e5a95253af>\u001b[0m in \u001b[0;36m<module>\u001b[0;34m()\u001b[0m\n\u001b[0;32m----> 1\u001b[0;31m \u001b[0;32mfrom\u001b[0m \u001b[0mQueue\u001b[0m \u001b[0;32mimport\u001b[0m \u001b[0mQueue\u001b[0m\u001b[0;34m\u001b[0m\u001b[0m\n\u001b[0m",
      "\u001b[0;31mModuleNotFoundError\u001b[0m: No module named 'Queue'"
     ]
    }
   ],
   "source": [
    "from Queue import Queue"
   ]
  },
  {
   "cell_type": "code",
   "execution_count": null,
   "metadata": {
    "collapsed": true
   },
   "outputs": [],
   "source": [
    "class BinaryTree:\n",
    "    def __init__(self, value):\n",
    "        self.value = value\n",
    "        self.left_child = None\n",
    "        self.right_child = None\n",
    "        \n",
    "    def insert_right(self, value):\n",
    "        if self.right_child == None:\n",
    "            self.right_child = BinaryTree(value)\n",
    "        else:\n",
    "            new_node = BinaryTree(value)\n",
    "            new_node.right_child = self.right_child\n",
    "            self.right_child = new_node\n",
    "        \n",
    "    def insert_left(self, value):\n",
    "        if self.left_child == None:\n",
    "            self.left_child = BinaryTree(value)\n",
    "        else:\n",
    "            new_node = BinaryTree(value)\n",
    "            new_node.left_child = self.left_child\n",
    "            self.left_child = new_node\n",
    "            \n",
    "    def pre_order(self):\n",
    "        print(self.value)\n",
    "\n",
    "        if self.left_child:\n",
    "            self.left_child.pre_order()\n",
    "\n",
    "        if self.right_child:\n",
    "            self.right_child.pre_order()\n",
    "            \n",
    "    def in_order(self):\n",
    "        if self.left_child:\n",
    "            self.left_child.in_order()\n",
    "\n",
    "        print(self.value)\n",
    "\n",
    "        if self.right_child:\n",
    "            self.right_child.in_order()\n",
    "            \n",
    "    def post_order(self):\n",
    "        if self.left_child:\n",
    "            self.left_child.post_order()\n",
    "\n",
    "        if self.right_child:\n",
    "            self.right_child.post_order()\n",
    "\n",
    "        print(self.value)\n",
    "        \n",
    "    def bfs(self):\n",
    "        queue = Queue()\n",
    "        queue.put(self)\n",
    "\n",
    "        while not queue.empty():\n",
    "            current_node = queue.get()\n",
    "            print(current_node.value)\n",
    "\n",
    "            if current_node.left_child:\n",
    "                queue.put(current_node.left_child)\n",
    "\n",
    "            if current_node.right_child:\n",
    "                queue.put(current_node.right_child)"
   ]
  },
  {
   "cell_type": "markdown",
   "metadata": {},
   "source": [
    "tree = BinaryTree('a')\n",
    "print(tree.value) # a\n",
    "print(tree.left_child) # None\n",
    "print(tree.right_child) # None"
   ]
  },
  {
   "cell_type": "code",
   "execution_count": null,
   "metadata": {},
   "outputs": [],
   "source": [
    "a_node = BinaryTree('a')\n",
    "a_node.insert_left('b')\n",
    "a_node.insert_right('c')\n",
    "\n",
    "b_node = a_node.left_child\n",
    "b_node.insert_right('d')\n",
    "\n",
    "c_node = a_node.right_child\n",
    "c_node.insert_left('e')\n",
    "c_node.insert_right('f')\n",
    "\n",
    "d_node = b_node.right_child\n",
    "e_node = c_node.left_child\n",
    "f_node = c_node.right_child\n",
    "\n",
    "print(a_node.value) # a\n",
    "print(b_node.value) # b\n",
    "print(c_node.value) # c\n",
    "print(d_node.value) # d\n",
    "print(e_node.value) # e\n",
    "print(f_node.value) # f"
   ]
  },
  {
   "cell_type": "code",
   "execution_count": null,
   "metadata": {},
   "outputs": [],
   "source": [
    "a_node.pre_order()"
   ]
  },
  {
   "cell_type": "code",
   "execution_count": null,
   "metadata": {},
   "outputs": [],
   "source": [
    "a_node.in_order()"
   ]
  },
  {
   "cell_type": "code",
   "execution_count": null,
   "metadata": {},
   "outputs": [],
   "source": [
    "a_node.post_order()"
   ]
  },
  {
   "cell_type": "code",
   "execution_count": null,
   "metadata": {
    "collapsed": true
   },
   "outputs": [],
   "source": [
    "a_node.bfs()"
   ]
  }
 ],
 "metadata": {
  "kernelspec": {
   "display_name": "Python 3",
   "language": "python",
   "name": "python3"
  },
  "language_info": {
   "codemirror_mode": {
    "name": "ipython",
    "version": 3
   },
   "file_extension": ".py",
   "mimetype": "text/x-python",
   "name": "python",
   "nbconvert_exporter": "python",
   "pygments_lexer": "ipython3",
   "version": "3.6.3"
  }
 },
 "nbformat": 4,
 "nbformat_minor": 2
}
