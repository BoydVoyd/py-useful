{
 "cells": [
  {
   "cell_type": "code",
   "execution_count": 3,
   "metadata": {},
   "outputs": [],
   "source": [
    "class BinarySearchTree:\n",
    "    def __init__(self, value):\n",
    "        self.value = value\n",
    "        self.left_child = None\n",
    "        self. right_child = None\n",
    "        \n",
    "    def insert_node(self, value):\n",
    "        if value <= self.value and self.left_child:\n",
    "            self.left_child.insert_node(value)\n",
    "        elif value <= self.value:\n",
    "            self.left_child = BinarySearchTree(value)\n",
    "        elif value > self.value and self.right_child:\n",
    "            self.right_child.insert_node(value)\n",
    "        else:\n",
    "            self.right_child = BinarySearchTree(value)\n",
    "            \n",
    "    def find_node(self, value):\n",
    "        if value < self.value and self.left_child:\n",
    "            return self.left_child.find_node(value)\n",
    "        if value > self.value and self.right_child:\n",
    "            return self.right_child.find_node(value)\n",
    "        \n",
    "        return value == self.value\n",
    "            "
   ]
  },
  {
   "cell_type": "code",
   "execution_count": 5,
   "metadata": {},
   "outputs": [],
   "source": [
    "bst = BinarySearchTree(15)\n",
    "bst.insert_node(10)\n",
    "bst.insert_node(9)\n",
    "bst.insert_node(12)\n",
    "bst.insert_node(20)\n",
    "bst.insert_node(17)\n",
    "bst.insert_node(25)\n",
    "bst.insert_node(19)"
   ]
  },
  {
   "cell_type": "code",
   "execution_count": 6,
   "metadata": {},
   "outputs": [
    {
     "name": "stdout",
     "output_type": "stream",
     "text": [
      "True\n"
     ]
    }
   ],
   "source": [
    "print(bst.find_node(12))\n"
   ]
  },
  {
   "cell_type": "code",
   "execution_count": null,
   "metadata": {
    "collapsed": true
   },
   "outputs": [],
   "source": []
  }
 ],
 "metadata": {
  "kernelspec": {
   "display_name": "Python 3",
   "language": "python",
   "name": "python3"
  },
  "language_info": {
   "codemirror_mode": {
    "name": "ipython",
    "version": 3
   },
   "file_extension": ".py",
   "mimetype": "text/x-python",
   "name": "python",
   "nbconvert_exporter": "python",
   "pygments_lexer": "ipython3",
   "version": "3.6.3"
  }
 },
 "nbformat": 4,
 "nbformat_minor": 2
}
