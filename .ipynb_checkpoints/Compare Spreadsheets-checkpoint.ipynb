{
 "cells": [
  {
   "cell_type": "code",
   "execution_count": 1,
   "metadata": {
    "collapsed": true
   },
   "outputs": [],
   "source": [
    "import pandas as pd"
   ]
  },
  {
   "cell_type": "code",
   "execution_count": 2,
   "metadata": {
    "collapsed": true
   },
   "outputs": [],
   "source": [
    "test_group = pd.read_excel('/Users/ndavis/OneDrive - Ingram Content Group/Umbrella/Umbrella Client Test Group Smoke Test.xlsx',\n",
    "                          sheetname='Test Group')\n",
    "laptops_win = pd.read_excel('/Users/ndavis/OneDrive - Ingram Content Group/Umbrella/Umbrella Client All Windows .xlsx',\n",
    "                               sheetname='Sheet1')\n"
   ]
  },
  {
   "cell_type": "code",
   "execution_count": 3,
   "metadata": {},
   "outputs": [],
   "source": [
    "left_merge = pd.merge(test_group, laptops_win, on='Username', how='left', indicator=True)"
   ]
  },
  {
   "cell_type": "code",
   "execution_count": 6,
   "metadata": {},
   "outputs": [],
   "source": [
    "writer = pd.ExcelWriter('/Users/ndavis/OneDrive - Ingram Content Group/Umbrella/Umbrella Test Group.xlsx')\n",
    "left_merge.to_excel(writer,'Sheet1', index=False)\n",
    "writer.save()"
   ]
  }
 ],
 "metadata": {
  "kernelspec": {
   "display_name": "Python 3",
   "language": "python",
   "name": "python3"
  },
  "language_info": {
   "codemirror_mode": {
    "name": "ipython",
    "version": 3
   },
   "file_extension": ".py",
   "mimetype": "text/x-python",
   "name": "python",
   "nbconvert_exporter": "python",
   "pygments_lexer": "ipython3",
   "version": "3.6.2"
  }
 },
 "nbformat": 4,
 "nbformat_minor": 2
}
