{
 "cells": [
  {
   "cell_type": "code",
   "execution_count": 11,
   "metadata": {},
   "outputs": [],
   "source": [
    "import requests\n",
    "method='GET'\n",
    "service_tag1 = 'CX4SV12'\n",
    "service_tag2 = 'DJDVJF1'\n",
    "api_key = '6a4fcb6edca844aa8359240e2a8e9fd6'\n",
    "url = 'https://sandbox.api.dell.com/support/assetinfo/v4/getassetwarranty/%s,%s?apikey=%s' \\\n",
    "       % (service_tag1, service_tag2, api_key)\n",
    "r = requests.request(method=method, url=url)"
   ]
  },
  {
   "cell_type": "code",
   "execution_count": 12,
   "metadata": {},
   "outputs": [
    {
     "data": {
      "text/plain": [
       "{'AdditionalInformation': None,\n",
       " 'AssetWarrantyResponse': [{'AssetEntitlementData': [{'EndDate': '2017-06-16T23:59:59',\n",
       "     'EntitlementType': 'INITIAL',\n",
       "     'ItemNumber': '936-9503',\n",
       "     'ServiceLevelCode': 'SV',\n",
       "     'ServiceLevelDescription': 'Silver Support or ProSupport',\n",
       "     'ServiceLevelGroup': 8,\n",
       "     'ServiceProvider': 'DELL',\n",
       "     'StartDate': '2014-06-16T00:00:00'},\n",
       "    {'EndDate': '2017-06-16T23:59:59',\n",
       "     'EntitlementType': 'EXTENDED',\n",
       "     'ItemNumber': '936-9463',\n",
       "     'ServiceLevelCode': 'S1',\n",
       "     'ServiceLevelDescription': '4 Hour 7x24 Onsite Support',\n",
       "     'ServiceLevelGroup': 5,\n",
       "     'ServiceProvider': 'UNY',\n",
       "     'StartDate': '2015-06-17T00:00:00'},\n",
       "    {'EndDate': '2015-06-16T23:59:59',\n",
       "     'EntitlementType': 'INITIAL',\n",
       "     'ItemNumber': '989-5161',\n",
       "     'ServiceLevelCode': 'S1',\n",
       "     'ServiceLevelDescription': '4 Hour 7x24 Onsite Support',\n",
       "     'ServiceLevelGroup': 5,\n",
       "     'ServiceProvider': 'UNY',\n",
       "     'StartDate': '2014-06-16T00:00:00'}],\n",
       "   'AssetHeaderData': {'BUID': '11',\n",
       "    'CountryLookupCode': 'US',\n",
       "    'CustomerNumber': '30451889',\n",
       "    'IsDuplicate': False,\n",
       "    'ItemClassCode': 'E)002',\n",
       "    'LocalChannel': '08',\n",
       "    'MachineDescription': 'PowerEdge R620',\n",
       "    'OrderNumber': '636499556',\n",
       "    'ParentServiceTag': None,\n",
       "    'ServiceTag': 'CX4SV12',\n",
       "    'ShipDate': '2014-06-16T00:00:00'},\n",
       "   'ProductHeaderData': {'LOB': 'PowerEdge',\n",
       "    'LOBFriendlyName': 'PowerEdge',\n",
       "    'ProductFamily': 'Servers, Storage, & Networking',\n",
       "    'ProductId': 'poweredge-r620',\n",
       "    'SystemDescription': 'PowerEdge R620'}},\n",
       "  {'AssetEntitlementData': [{'EndDate': '2011-01-24T23:59:59',\n",
       "     'EntitlementType': 'INITIAL',\n",
       "     'ItemNumber': '960-7812',\n",
       "     'ServiceLevelCode': 'SV',\n",
       "     'ServiceLevelDescription': 'Silver Support or ProSupport',\n",
       "     'ServiceLevelGroup': 8,\n",
       "     'ServiceProvider': 'DELL',\n",
       "     'StartDate': '2008-01-24T00:00:00'},\n",
       "    {'EndDate': '2011-01-24T23:59:59',\n",
       "     'EntitlementType': 'EXTENDED',\n",
       "     'ItemNumber': '960-7672',\n",
       "     'ServiceLevelCode': 'ND',\n",
       "     'ServiceLevelDescription': 'Onsite Service After Remote Diagnosis (Consumer Customer)/ Next Business Day Onsite After Remote Diagnosis (Commercial Customer)',\n",
       "     'ServiceLevelGroup': 5,\n",
       "     'ServiceProvider': 'UNY',\n",
       "     'StartDate': '2009-01-25T00:00:00'},\n",
       "    {'EndDate': '2009-01-24T23:59:59',\n",
       "     'EntitlementType': 'INITIAL',\n",
       "     'ItemNumber': '970-3710',\n",
       "     'ServiceLevelCode': 'ND',\n",
       "     'ServiceLevelDescription': 'Onsite Service After Remote Diagnosis (Consumer Customer)/ Next Business Day Onsite After Remote Diagnosis (Commercial Customer)',\n",
       "     'ServiceLevelGroup': 5,\n",
       "     'ServiceProvider': 'UNY',\n",
       "     'StartDate': '2008-01-24T00:00:00'}],\n",
       "   'AssetHeaderData': {'BUID': '11',\n",
       "    'CountryLookupCode': 'US',\n",
       "    'CustomerNumber': '30451889',\n",
       "    'IsDuplicate': False,\n",
       "    'ItemClassCode': ']L016',\n",
       "    'LocalChannel': '08',\n",
       "    'MachineDescription': 'PowerEdge 1950',\n",
       "    'OrderNumber': '128803594',\n",
       "    'ParentServiceTag': None,\n",
       "    'ServiceTag': 'DJDVJF1',\n",
       "    'ShipDate': '2008-01-24T00:00:00'},\n",
       "   'ProductHeaderData': {'LOB': 'PowerEdge',\n",
       "    'LOBFriendlyName': 'PowerEdge',\n",
       "    'ProductFamily': 'Servers, Storage, & Networking',\n",
       "    'ProductId': 'poweredge-1950',\n",
       "    'SystemDescription': 'PowerEdge 1950'}}],\n",
       " 'ExcessTags': {'BadAssets': []},\n",
       " 'InvalidBILAssets': {'BadAssets': []},\n",
       " 'InvalidFormatAssets': {'BadAssets': []}}"
      ]
     },
     "execution_count": 12,
     "metadata": {},
     "output_type": "execute_result"
    }
   ],
   "source": [
    "r.json()"
   ]
  }
 ],
 "metadata": {
  "kernelspec": {
   "display_name": "Python 3",
   "language": "python",
   "name": "python3"
  },
  "language_info": {
   "codemirror_mode": {
    "name": "ipython",
    "version": 3
   },
   "file_extension": ".py",
   "mimetype": "text/x-python",
   "name": "python",
   "nbconvert_exporter": "python",
   "pygments_lexer": "ipython3",
   "version": "3.6.1"
  }
 },
 "nbformat": 4,
 "nbformat_minor": 2
}
