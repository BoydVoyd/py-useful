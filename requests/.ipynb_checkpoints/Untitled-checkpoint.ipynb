{
 "cells": [
  {
   "cell_type": "code",
   "execution_count": 29,
   "metadata": {},
   "outputs": [],
   "source": [
    "import getpass\n",
    "import requests\n",
    "requests.packages.urllib3.disable_warnings()\n",
    "base_url = \"https://login.fidelity.com\"\n",
    "path = \"ftgw/Fas/Fidelity/RtlCust/Login/Init?AuthRedUrl=https://oltx.fidelity.com/ftgw/fbc/ofsummary/defaultPage\"\n",
    "url = \"%s/%s\" % (base_url, path)\n",
    "method = \"GET\"\n",
    "data = None\n",
    "params = None\n",
    "def get_credentials():\n",
    "    user = input(\"Username: \")\n",
    "    pw = getpass.getpass(\"Password: \")\n",
    "    return user, pw"
   ]
  },
  {
   "cell_type": "code",
   "execution_count": 30,
   "metadata": {},
   "outputs": [
    {
     "name": "stdout",
     "output_type": "stream",
     "text": [
      "Username: nathanwdavis\n",
      "Password: ········\n"
     ]
    }
   ],
   "source": [
    "auth = get_credentials()"
   ]
  },
  {
   "cell_type": "code",
   "execution_count": 31,
   "metadata": {},
   "outputs": [],
   "source": [
    "resp = requests.request(method, url, data=data, params=params, auth=auth, verify=False)"
   ]
  },
  {
   "cell_type": "raw",
   "metadata": {},
   "source": []
  }
 ],
 "metadata": {
  "kernelspec": {
   "display_name": "Python 3",
   "language": "python",
   "name": "python3"
  },
  "language_info": {
   "codemirror_mode": {
    "name": "ipython",
    "version": 3
   },
   "file_extension": ".py",
   "mimetype": "text/x-python",
   "name": "python",
   "nbconvert_exporter": "python",
   "pygments_lexer": "ipython3",
   "version": "3.6.1"
  }
 },
 "nbformat": 4,
 "nbformat_minor": 2
}
