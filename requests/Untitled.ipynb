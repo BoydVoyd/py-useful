{
 "cells": [
  {
   "cell_type": "code",
   "execution_count": 11,
   "metadata": {
    "collapsed": true
   },
   "outputs": [],
   "source": [
    "from IPython.display import display_html, display_javascript\n",
    "import uuid\n",
    "from jinja2 import Environment, BaseLoader\n",
    "import getpass\n",
    "import requests\n",
    "requests.packages.urllib3.disable_warnings()\n",
    "base_url = \"https://workplaceservices.fidelity.com\"\n",
    "path = \"mybenefits/navstation/navigation\"\n",
    "url = \"%s/%s\" % (base_url, path)\n",
    "method = \"GET\"\n",
    "data = None\n",
    "params = None\n",
    "def get_credentials():\n",
    "    user = input(\"Username: \")\n",
    "    pw = getpass.getpass(\"Password: \")\n",
    "    return user, pw"
   ]
  },
  {
   "cell_type": "code",
   "execution_count": 12,
   "metadata": {},
   "outputs": [
    {
     "name": "stdout",
     "output_type": "stream",
     "text": [
      "Username: nathanwdavis\n",
      "Password: ········\n"
     ]
    }
   ],
   "source": [
    "auth = get_credentials()"
   ]
  },
  {
   "cell_type": "code",
   "execution_count": 13,
   "metadata": {
    "collapsed": true
   },
   "outputs": [],
   "source": [
    "resp = requests.request(method, url, data=data, params=params, auth=auth, verify=False)"
   ]
  },
  {
   "cell_type": "code",
   "execution_count": 14,
   "metadata": {},
   "outputs": [
    {
     "data": {
      "text/plain": [
       "True"
      ]
     },
     "execution_count": 14,
     "metadata": {},
     "output_type": "execute_result"
    }
   ],
   "source": [
    "resp.ok"
   ]
  },
  {
   "cell_type": "code",
   "execution_count": 18,
   "metadata": {},
   "outputs": [
    {
     "data": {
      "text/plain": [
       "b'    \\n\\n<!DOCTYPE html>\\n<html lang=\"en\">\\n<head>\\n    <meta charset=\"utf-8\">\\n    <TITLE>Log In to Fidelity NetBenefits</TITLE>\\n    <META name=\"OASIS\" content=\"438144.3.0\">\\n    <META http-equiv=\"Expires\" content=\"Mon 13 Jun 1988 00:00:00 GMT\">\\n    <META http-equiv=\"pragma\" content=\"no-cache\">\\n    <META name=\"eReview\" content=\"694769.2.0\">\\n\\t<!--[if lt IE 9]>\\n    <script src=\"/ftgw/pages/js/common/html5shiv.js\"></script>\\n\\t<![endif]-->\\n    <link href=\"/ftgw/pages/css/common/base.css\" rel=\"stylesheet\" type=\"text/css\" media=\"screen, print\"/>\\n\\n    <link href=\"/ftgw/pages/css/nbpart/defaultWeb/nbpartStyle.css\" rel=\"stylesheet\" type=\"text/css\" media=\"screen, print\"/>\\n<!--[if lt IE 8]>\\n\\t<style type=\"text/css\">\\n\\t/* a{padding-left:10px;} commented this for nbpart_login.vm*/\\n        label{margin: 0; padding: 0; zoom: 0;}\\n        h2{margin: 0; padding: 0; zoom: 0;}\\n        ol{line-height: 15px;padding-left:10px;margin-left:10px;}\\n\\n        button b{ margin: 0; padding: 0;}\\n      \\n        #usernameBubble, #passwordBubble{\\n            *display: inline;\\n            zoom: 1;\\n        }\\n        DIV.lockIcon, #viewUpgradeBox #loginBox li{\\n            display:inline-block;\\n           *display: inline;\\n            zoom: 1;\\n            margin-top:-19px;\\n        }\\n        #nbAciLogin  h2{\\n            padding-top:40px;\\n        }\\n        #nbAciLogin #loginBox ol{\\n            padding-top:0px;\\n        }\\n        #nbAciLogin #legend, #viewUpgradeBox #legend{\\n            margin-left:-8px;\\n            padding-right:2px;\\n        }\\n        #loginBoxDefault label{\\n            padding-left:-20px;\\n        }\\n        form.li.error.strong{\\n        \\twidth:160px;\\n        }\\n        #page-header h2{\\n        \\tpadding-bottom:17px;\\n        \\tpadding-top:17px;  \\n        \\tmargin-top:0.5em;      \\t\\n        }\\n        #column-left{\\n        \\tmargin:0px 0px;\\n        }\\n        #column-right{\\n        \\tmargin-top:25px;\\n        }\\n        #verticalRule{\\n        \\tmargin-top:25px;\\n        }\\n        #loginBoxDefault #Login form li{\\n        \\tmargin-bottom:0px;\\n        }\\n        #loginBoxDefault #Login ol{\\n        \\tpadding-left:0px;\\n        \\tmargin-left:0px;\\n        }\\n       \\n        #loginBoxDefault li.error strong{\\n        \\tpadding-bottom : 0px;\\n        \\tmargin:-14px 0px 5px 130px;\\n        }\\n        #loginLink a, #havingTroubleLink a,#returnToHomePageLink a,#resetLink a,#cancelLink a{\\n        \\tpadding-left:10px;\\n        }\\n        form .confirm input{\\n        \\tbottom:0.3em;\\n        }\\n\\t</style>\\n\\t<![endif]-->\\n</head>\\n<body>\\n<header>\\n    <figure>\\n        <img src=\"/ftgw/pages/images/nbpart/defaultWeb/nblogo_BigN.gif\" border=\"0\" hspace=\"0\" vspace=\"0\" alt=\"NB Home\" />\\n    </figure>\\n</header>\\n\\n<article id=\"column-left\">\\n    <section id=\"page-header\">\\n        <h2>Log In<div class=\"lockIcon\"></div></h2>\\n\\t<p>If you have an account on Fidelity.com use the same username and password.</p>\\n    </section>\\n    \\n\\n\\t\\n\\n\\n\\n<section id=\"loginBoxDefault\">\\n    <form id=\"Login\" name=\"Login\" method=\"POST\"\\taction=\"/ftgw/Fas/Fidelity/NBPart/Login/Response\"\\tautocomplete=\"off\" novalidate=\"novalidate\">\\n        <input type=\"hidden\" name=\"DEVICE_PRINT\" value=\"\"/>\\n\\n        <ol>\\n            <li class=\"text\">\\n                <label for=\"username\">Username</label>\\n                <section class=\"showHide\">\\n                    <input tabindex=\"1\" id=\"notSet\" class=\"obfuscate\" name=\"notSet\" type=\"text\" maxlength=\"15\" />\\n                </section>\\n                \\t            \\t<input tabindex=\"1\" class=\"obfuscate\" id=\"userId\" name=\"ssn\" type=\"text\" maxlength=\"15\" required=\"required\"\\n                        data-error-empty=\"Please enter your username\" data-error-invalid=\"This field is not properly formatted\"/>\\n\\t                           <div id=\"usernameBubble\" class=\"bubble\" >\\n    <a href=\"#\">\\n        <div class=\"bubbleArea\">\\n            <span class=\"bubbleProperties\">\\n                <img class=\"bubbleArrow\" alt=\"\" src=\"/ftgw/pages/images/common/arrow_top_blk.gif\" />\\n                For U.S. employees, your username (up to 15 characters) can be any customer identifier you\\'ve chosen or your Social Security number (SSN).<br/><br/>If you use your SSN to log in, please create a personalized username for added security. Use the Need Help links to the right to change your login information.<br/><br/>For outside the U.S. employees, your Participant Number is your Username and if you created a PIN previously, it is now considered your Password.\\n            </span>\\n        </div>\\n    </a>\\n</div>            </li>\\n\\n            <li class=\"confirm\" id=\"loginConfirm\">\\n\\t            <label for=\"confirm\">\\n\\t                <input tabindex=\"5\" type=\"hidden\" id=\"SavedIdInd\" name=\"SavedIdInd\"\\n\\t                       \\t                       value=\"N\"\\n\\t                       \\t                       />\\n\\t                       <input id=\"confirm\" type=\"checkbox\" name=\"confirm\"\\n\\t                       \\t                       />&nbsp;<a href=\"javascript:openMediumWindow(\\'/ftgw/pages/retail/html/include/RememberIDInfo.html\\')\"\\n            tabindex=\"6\">Remember Me</a>\\n \\t\\t\\t\\n                </label>\\n            </li>   \\n            \\n            <li class=\"showHide\" ><a tabindex=\"7\" id=\"useSavedId\" href=\"#\">Use a saved username</a>    \\n            <li class=\"password\">\\n                <label for=\"password\">Password</label>\\n                <input tabindex=\"2\" id=\"password\" type=\"password\" name=\"pin\" required=\"required\" maxlength=\"20\" data-error-empty=\"Please enter your password\" data-error-invalid=\"This field is not properly formatted\"/>\\n                <div id=\"passwordBubble\" class=\"bubble\" tabindex=\"8\">\\n    <a href=\"#\">\\n        <div class=\"bubbleArea\">\\n            <span class=\"bubbleProperties\">\\n                <img class=\"bubbleArrow\" alt=\"\" src=\"/ftgw/pages/images/common/arrow_top_blk.gif\" />\\n                    \\tUse 6 to 20 letters, numbers, and/or special characters\\n            </span>\\n        </div>\\n    </a>\\n</div>            </li>\\n\\n            <li class=\"buttons\">\\n                <button tabindex=\"2\" type=\"submit\">Log In</button>\\n            </li>\\n            <li>\\n               <label class=\"nbWorldWide\"><p class=\"bulletIconWW\"></p>    <a tabindex=\"9\" href=\"/ftgw/Fas/Fidelity/IspCust/Login/Init\">Log in to NetBenefits<sup>&reg;</sup> Worldwide</a></label>\\n            </li>\\n        </ol>\\n    </form>\\n</section>\\n    <section id=\"eReview\">694769.2.0</section>\\n</article>\\n <section id=\"verticalRule\"></section>\\n\\n<article id=\"column-right\">\\n    <section id=\"register-help\">\\n        <h2>New User?</h2>\\n            <p><a href=\"/ftgw/Fas/Fidelity/NBPart/IdentifyUser/Init?intent=nur\" tabindex=\"12\"  id=\"registerNow\">Register Now</a></p>\\n            <h2>Need Help Logging in?</h2>\\n            <p><a href=\"/ftgw/Fas/Fidelity/NBPart/IdentifyUser/Init\" tabindex=\"13\"  id=\"havingTroubleLink\">Having trouble with your username or password?</a></p>\\n            <p><a href=\"javascript:openFooterPopup(\\'/ftgw/pages/fesco/html/FAQ.html\\', \\'FAQ1\\', 580, 420)\" tabindex=\"14\">Frequently Asked Questions</a></p>\\n            <p><a href=\"javascript:openFooterPopup(\\'https://nb.fidelity.com/public/nb/default/resourceslibrary/articles/onlinesecurityatfidelity\\', \\'OnlineSecurity\\', 1000, 800)\" tabindex=\"15\">Online Security</a></p>\\n\\t\\t</section>\\n\\t</article>\\n\\n<section id=\"copyrightAndAddress\" >\\n    <p>&copy; 1996-<script type=\"text/javascript\">var currentYear = new Date(); copyrightYear=currentYear.getFullYear(); document.write(copyrightYear);</script>&nbsp;FMR LLC. All rights reserved.</p>\\n\\t<p >By using or logging into this website, you consent to the use of cookies as described in&nbsp;<a href=\"https://nb.fidelity.com/public/nb/default/resourceslibrary/articles/privacypolicy\">Fidelity\\'s Privacy Policy.</a></p>\\n    <p >Covered, in part, by U.S. patent number 5,991,878</p>       <p class=\"conditions\">Fidelity Brokerage Services LLC, Member NYSE, SIPC, 900 Salem Street Smithfield, RI 02917</p>\\n    <p>\\n        <a href=\"javascript:openFooterPopup(\\'https://nb.fidelity.com/public/nb/default/resourceslibrary/articles/termsofuse\\', \\'Legal\\', 1000, 800);\">Terms of Use</a>\\n        |&nbsp;<a href=\"javascript:openFooterPopup(\\'https://nb.fidelity.com/public/nb/default/resourceslibrary/articles/privacypolicy\\', \\'Privacy\\', 1000, 800);\">Privacy</a>\\n        |&nbsp;<a href=\"javascript:openFooterPopup(\\'https://nb.fidelity.com/public/nb/default/resourceslibrary/articles/fidelitycustomerprotectionguarantee\\', \\'Protection\\', 1000, 800);\">The Fidelity Customer Protection Guarantee</a>&nbsp;\\n        |&nbsp;<a href=\"javascript:openFooterPopup(\\'https://nb.fidelity.com/public/nb/default/resourceslibrary/articles/onlinesecurityatfidelity\\', \\'Security\\', 1000, 800);\">Security</a>&nbsp;\\n    </p>\\n</section>\\n<script type=\"text/javascript\" src=\"/ftgw/pages/js/common/jquery.js\"></script>\\n<script type=\"text/javascript\" src=\"/ftgw/pages/js/common/main.js\"></script>\\n<script language=\"javascript\" src=\"/ftgw/pages/capability/common/defaultWeb/js/rsa/device_print.min.js\"></script>\\n\\n<script>\\nfunction getUrlParams(){\\n    var url = window.location.href;\\n    var AuthOrigURL;\\n    var AuthRedURL;\\n    var param3;\\n\\n    //url+=\\'?param1=value1&param2=value2\\';\\n    AuthOrigURL = getParameterByName(\"AuthOrigURL\", url);\\n    AuthRedURL = getParameterByName(\"AuthRedURL\", url);\\n\\n    if(AuthOrigURL != null && AuthRedURL != null){\\n\\n        param3 = getParameterByName(\"param3\", url); // collects the parameter\\n        alert(param3);\\n\\n        if(param3 == null){\\n            param3=\\'&param3=value3\\';\\n            location.hash=url+param3; //no page reload\\n            //alert(\\'new param added\\');\\n        }\\n    }\\n}\\n\\nfunction getParameterByName( name, href ){\\n    name = name.replace(/[\\\\[]/,\"\\\\\\\\\\\\[\").replace(/[\\\\]]/,\"\\\\\\\\\\\\]\");\\n    var regexS = \"[\\\\\\\\?&]\"+name+\"=([^&#]*)\";\\n    var regex = new RegExp( regexS );\\n    var results = regex.exec( href );\\n\\n    if( results == null ) \\n        return null; \\n    else \\n        return decodeURIComponent(results[1].replace(/\\\\+/g, \" \"));\\n}\\n\\n//gets called on page load\\n$(document).ready(function (){\\n\\tif($(\\'[name=\"DEVICE_PRINT\"]\\').length != 0){\\n\\t   $(\\'[name=\"DEVICE_PRINT\"]\\').val(add_deviceprint())\\n //   \\tpost_deviceprint(\\'Login\\');\\n\\t}\\n\\t\\n\\t//Frame buster for all default web\\n    if(top.location != location){\\n        // Netbenefits upgrade page is called within a frame, we do not want to bust it \\n    \\tif($(\"#embedNoteBox\").length == 0){\\n        \\ttop.location.href = document.location.href;\\n        }\\n    }\\n});\\n</script><script language=\"javascript\" src=\"/ftgw/pages/js/nbpart/defaultWeb/nbpart.js\"></script></BODY>\\n</HTML>\\n'"
      ]
     },
     "execution_count": 18,
     "metadata": {},
     "output_type": "execute_result"
    }
   ],
   "source": [
    "resp.content"
   ]
  },
  {
   "cell_type": "code",
   "execution_count": 19,
   "metadata": {
    "collapsed": true
   },
   "outputs": [],
   "source": [
    "f = open('test.html','wb')\n",
    "for chunk in resp.iter_content(100000):\n",
    "    f.write(chunk)\n",
    "f.close()"
   ]
  }
 ],
 "metadata": {
  "kernelspec": {
   "display_name": "Python 3",
   "language": "python",
   "name": "python3"
  },
  "language_info": {
   "codemirror_mode": {
    "name": "ipython",
    "version": 3
   },
   "file_extension": ".py",
   "mimetype": "text/x-python",
   "name": "python",
   "nbconvert_exporter": "python",
   "pygments_lexer": "ipython3",
   "version": "3.6.1"
  }
 },
 "nbformat": 4,
 "nbformat_minor": 2
}
