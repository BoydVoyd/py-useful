{
 "cells": [
  {
   "cell_type": "code",
   "execution_count": 6,
   "metadata": {},
   "outputs": [
    {
     "name": "stdout",
     "output_type": "stream",
     "text": [
      "[{'name': 'Juniper', 'products': ['vmx', 'vsrx', 'contrail']}, {'name': 'Cisco', 'products': ['Nexus 7K', 'Catalyst 3750', 'ACI']}, {'name': 'Brocade', 'products': ['BVC', \"Vyatta 5400 vRouter'\", 'VDX 6740']}]\n"
     ]
    }
   ],
   "source": [
    "import yaml\n",
    "\n",
    "def ly(filename):\n",
    "    with open(filename) as _:\n",
    "        return yaml.load(_)\n",
    "    \n",
    "my_dict = ly('text.yaml')\n",
    "\n",
    "print(my_dict)"
   ]
  }
 ],
 "metadata": {
  "kernelspec": {
   "display_name": "Python 3",
   "language": "python",
   "name": "python3"
  },
  "language_info": {
   "codemirror_mode": {
    "name": "ipython",
    "version": 3
   },
   "file_extension": ".py",
   "mimetype": "text/x-python",
   "name": "python",
   "nbconvert_exporter": "python",
   "pygments_lexer": "ipython3",
   "version": "3.6.2"
  }
 },
 "nbformat": 4,
 "nbformat_minor": 2
}
