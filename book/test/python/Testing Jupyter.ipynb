{
 "cells": [
  {
   "cell_type": "markdown",
   "metadata": {},
   "source": [
    "# Nathan is Great!\n",
    "*Nathan is great.*\n",
    "\n",
    "## No Really, I'm Serious!\n",
    "**So this is what it's like to be bold!**\n",
    "\n",
    "### What This Notebook Shows\n",
    "\n",
    "1. A bunch of stuff\n",
    "2. More stuff\n",
    "3. Absolutely nothing"
   ]
  },
  {
   "cell_type": "code",
   "execution_count": 17,
   "metadata": {},
   "outputs": [
    {
     "name": "stdout",
     "output_type": "stream",
     "text": [
      "Nathan\n"
     ]
    }
   ],
   "source": [
    "name = \"Nathan\"\n",
    "print(name)"
   ]
  },
  {
   "cell_type": "code",
   "execution_count": 22,
   "metadata": {},
   "outputs": [
    {
     "name": "stdout",
     "output_type": "stream",
     "text": [
      "total 16\r\n",
      "drwxr-xr-x   6 ndavis  370216062   204 May 21 15:16 \u001b[34m.\u001b[m\u001b[m/\r\n",
      "drwxr-xr-x  10 ndavis  370216062   340 May 17 11:25 \u001b[34m..\u001b[m\u001b[m/\r\n",
      "drwxr-xr-x   3 ndavis  370216062   102 May 21 14:59 \u001b[34m.ipynb_checkpoints\u001b[m\u001b[m/\r\n",
      "drwxr-xr-x   3 ndavis  370216062   102 May 17 11:28 \u001b[34m.vscode\u001b[m\u001b[m/\r\n",
      "-rw-r--r--   1 ndavis  370216062  3959 May 21 15:16 Testing Jupyter.ipynb\r\n",
      "-rw-r--r--   1 ndavis  370216062   119 May 17 13:24 pandasintro.py\r\n"
     ]
    }
   ],
   "source": [
    "%matplotlib inline"
   ]
  }
 ],
 "metadata": {
  "kernelspec": {
   "display_name": "Python 3",
   "language": "python",
   "name": "python3"
  },
  "language_info": {
   "codemirror_mode": {
    "name": "ipython",
    "version": 2
   },
   "file_extension": ".py",
   "mimetype": "text/x-python",
   "name": "python",
   "nbconvert_exporter": "python",
   "pygments_lexer": "ipython2",
   "version": "2.7.13"
  }
 },
 "nbformat": 4,
 "nbformat_minor": 2
}
