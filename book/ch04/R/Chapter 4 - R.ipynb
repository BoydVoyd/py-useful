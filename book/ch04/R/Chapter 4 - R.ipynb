{
 "cells": [
  {
   "cell_type": "code",
   "execution_count": 2,
   "metadata": {
    "collapsed": true
   },
   "outputs": [],
   "source": [
    "setwd(\"~/projects/py-useful/book/ch03\")\n",
    "pkg <- c(\"bitops\", \"ggplot2\", \"mapproj\", \"stringr\", \"maps\",\n",
    "         \"grid\", \"gridExtra\", \"RColorBrewer\", \"igraph\",\n",
    "         \"colorspace\", \"scales\", \"stringr\", \"reshape2\")\n",
    "new.pkg <- pkg[!(pkg %in% installed.packages())]\n",
    "if (length(new.pkg)) {\n",
    "  install.packages(new.pkg)  \n",
    "}\n"
   ]
  },
  {
   "cell_type": "code",
   "execution_count": 3,
   "metadata": {
    "collapsed": true
   },
   "outputs": [],
   "source": [
    "library(bitops)"
   ]
  },
  {
   "cell_type": "code",
   "execution_count": 4,
   "metadata": {},
   "outputs": [
    {
     "data": {
      "text/html": [
       "3232236132"
      ],
      "text/latex": [
       "3232236132"
      ],
      "text/markdown": [
       "3232236132"
      ],
      "text/plain": [
       "[1] 3232236132"
      ]
     },
     "metadata": {},
     "output_type": "display_data"
    }
   ],
   "source": [
    "ip2long <- function(ip){\n",
    "    ips <- unlist(strsplit( ip, '.', fixed=TRUE))\n",
    "    octet <- function(x,y) bitOr(bitShiftL(x,8), y)\n",
    "    Reduce(octet, as.integer(ips))\n",
    "}\n",
    "\n",
    "ip2long(\"192.168.2.100\")\n",
    "\n",
    "\n"
   ]
  },
  {
   "cell_type": "code",
   "execution_count": 5,
   "metadata": {},
   "outputs": [
    {
     "data": {
      "text/html": [
       "'222.126.143.57'"
      ],
      "text/latex": [
       "'222.126.143.57'"
      ],
      "text/markdown": [
       "'222.126.143.57'"
      ],
      "text/plain": [
       "[1] \"222.126.143.57\""
      ]
     },
     "metadata": {},
     "output_type": "display_data"
    }
   ],
   "source": [
    "long2ip <- function(longip) {\n",
    "    octet <- function(nbits) bitAnd(bitShiftR(longip, nbits), 0xFF)\n",
    "    paste(Map(octet, c(24,16,8,0)), sep=\"\", collapse=\".\")\n",
    "}\n",
    "long2ip(3732836153)"
   ]
  },
  {
   "cell_type": "code",
   "execution_count": 9,
   "metadata": {},
   "outputs": [
    {
     "name": "stdout",
     "output_type": "stream",
     "text": [
      "[1] 4294967040\n"
     ]
    },
    {
     "data": {
      "text/html": [
       "TRUE"
      ],
      "text/latex": [
       "TRUE"
      ],
      "text/markdown": [
       "TRUE"
      ],
      "text/plain": [
       "[1] TRUE"
      ]
     },
     "metadata": {},
     "output_type": "display_data"
    },
    {
     "name": "stdout",
     "output_type": "stream",
     "text": [
      "[1] 4294967040\n"
     ]
    },
    {
     "data": {
      "text/html": [
       "FALSE"
      ],
      "text/latex": [
       "FALSE"
      ],
      "text/markdown": [
       "FALSE"
      ],
      "text/plain": [
       "[1] FALSE"
      ]
     },
     "metadata": {},
     "output_type": "display_data"
    }
   ],
   "source": [
    "# Listing 4-2\n",
    "# requires packages: bitops\n",
    "# requires all objects from 4-1\n",
    "# Define function to test for IP CIDR membership\n",
    "# take an IP address (string) and a CIDR (string) and\n",
    "# return whether the given IP address is in the CIDR range\n",
    "ip.is.in.cidr <- function(ip, cidr) {\n",
    "  long.ip <- ip2long(ip)\n",
    "  cidr.parts <- unlist(strsplit(cidr, \"/\"))\n",
    "  cidr.range <- ip2long(cidr.parts[1])\n",
    "  cidr.mask <- bitShiftL(bitFlip(0), (32-as.integer(cidr.parts[2])))\n",
    "  return(bitAnd(long.ip, cidr.mask) == bitAnd(cidr.range, cidr.mask))\n",
    "}\n",
    "\n",
    "ip.is.in.cidr(\"10.0.1.15\",\"10.0.1.3/24\")\n",
    "## TRUE\n",
    "ip.is.in.cidr(\"10.0.1.15\",\"10.0.2.255/24\")\n",
    "## FALSE"
   ]
  }
 ],
 "metadata": {
  "kernelspec": {
   "display_name": "R",
   "language": "R",
   "name": "ir"
  },
  "language_info": {
   "codemirror_mode": "r",
   "file_extension": ".r",
   "mimetype": "text/x-r-source",
   "name": "R",
   "pygments_lexer": "r",
   "version": "3.4.0"
  }
 },
 "nbformat": 4,
 "nbformat_minor": 2
}
