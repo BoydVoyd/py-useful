{
 "cells": [
  {
   "cell_type": "code",
   "execution_count": 1,
   "metadata": {
    "collapsed": true
   },
   "outputs": [],
   "source": [
    "%matplotlib inline\n",
    "\n",
    "import os\n",
    "import sys\n",
    "import urllib\n",
    "import os.path\n",
    "import pandas as pd\n",
    "from IPython.display import HTML\n",
    "import matplotlib.pyplot as plt\n",
    "\n",
    "os.chdir(os.path.expanduser(\"~\") + \"/projects/book/ch03\")\n",
    "avURL = \"http://datadrivensecurity.info/book/ch03/data/reputation.data\"\n",
    "avRep = \"data/reputation.data\"\n",
    "if not os.path.isfile(avRep):\n",
    "    urllib.urlretrieve(avURL, filename=avRep)"
   ]
  },
  {
   "cell_type": "code",
   "execution_count": 2,
   "metadata": {
    "collapsed": true
   },
   "outputs": [],
   "source": [
    "av = pd.read_csv(avRep, sep=\"#\", header=None)\n",
    "av.columns = [\"IP\",\"Reliability\",\"Risk\",\"Type\",\"Country\",\n",
    "              \"Locale\",\"Coords\",\"x\"]\n"
   ]
  },
  {
   "cell_type": "code",
   "execution_count": 3,
   "metadata": {
    "scrolled": false
   },
   "outputs": [
    {
     "name": "stdout",
     "output_type": "stream",
     "text": [
      "                     IP  Reliability  Risk            Type Country  \\\n",
      "0        222.76.212.189            4     2   Scanning Host      CN   \n",
      "1        222.76.212.185            4     2   Scanning Host      CN   \n",
      "2        222.76.212.186            4     2   Scanning Host      CN   \n",
      "3           5.34.246.67            6     3        Spamming      US   \n",
      "4         178.94.97.176            4     5   Scanning Host      UA   \n",
      "5           66.2.49.232            4     2   Scanning Host      US   \n",
      "6        222.76.212.173            4     2   Scanning Host      CN   \n",
      "7        222.76.212.172            4     2   Scanning Host      CN   \n",
      "8        222.76.212.171            4     2   Scanning Host      CN   \n",
      "9         174.142.46.19            6     3        Spamming     NaN   \n",
      "10          66.2.49.244            4     2   Scanning Host      US   \n",
      "11         62.75.130.16            4     2   Scanning Host      DE   \n",
      "12         62.75.130.17            4     2   Scanning Host      DE   \n",
      "13         62.75.130.18            4     2   Scanning Host      DE   \n",
      "14         62.75.130.19            4     2   Scanning Host      DE   \n",
      "15       112.216.121.87            4     3   Scanning Host      KR   \n",
      "16       112.216.121.78            4     3   Scanning Host      KR   \n",
      "17       112.216.121.77            4     3   Scanning Host      KR   \n",
      "18       112.216.121.75            4     3   Scanning Host      KR   \n",
      "19       112.216.121.74            4     3   Scanning Host      KR   \n",
      "20        222.45.58.249            4     2   Scanning Host      CN   \n",
      "21        222.45.58.244            4     2   Scanning Host      CN   \n",
      "22       120.31.136.119            4     2   Scanning Host      CN   \n",
      "23         201.57.0.248            4     2   Scanning Host      BR   \n",
      "24         218.65.30.37            4     4   Scanning Host      CN   \n",
      "25         218.65.30.38            4     3   Scanning Host      CN   \n",
      "26         178.94.97.59            4     5   Scanning Host      UA   \n",
      "27       84.241.180.134            6     3      Malware IP      NL   \n",
      "28         62.75.130.12            4     2   Scanning Host      DE   \n",
      "29         62.75.130.13            4     2   Scanning Host      DE   \n",
      "...                 ...          ...   ...             ...     ...   \n",
      "258596    78.27.127.220            4     2   Scanning Host      FI   \n",
      "258597    78.27.127.210            4     2   Scanning Host      FI   \n",
      "258598     78.188.27.29            1     2   Scanning Host      TR   \n",
      "258599      223.4.10.45            6     2  Malware Domain      CN   \n",
      "258600      221.6.207.4            4     3   Scanning Host      CN   \n",
      "258601     78.27.127.51            4     2   Scanning Host      FI   \n",
      "258602     78.27.127.57            4     2   Scanning Host      FI   \n",
      "258603     78.188.27.26            1     2   Scanning Host      TR   \n",
      "258604     78.188.27.27            1     2   Scanning Host      TR   \n",
      "258605   60.168.158.231            4     4   Scanning Host      CN   \n",
      "258606     78.188.27.28            1     2   Scanning Host      TR   \n",
      "258607  180.215.161.174            4     4   Scanning Host      IN   \n",
      "258608    78.27.127.211            4     2   Scanning Host      FI   \n",
      "258609   190.229.178.34            4     3   Scanning Host      AR   \n",
      "258610   190.229.178.37            4     3   Scanning Host      AR   \n",
      "258611  190.229.178.155            4     3   Scanning Host      AR   \n",
      "258612     78.27.127.48            4     2   Scanning Host      FI   \n",
      "258613      23.83.79.89            9     2  Malware Domain     NaN   \n",
      "258614  188.190.124.120            6     3  Malware Domain      UA   \n",
      "258615     78.27.127.50            4     2   Scanning Host      FI   \n",
      "258616     78.27.127.47            4     2   Scanning Host      FI   \n",
      "258617     75.98.171.83            4     2        Spamming      US   \n",
      "258618   114.112.189.27            4     2   Scanning Host      CN   \n",
      "258619  114.112.189.139            4     2   Scanning Host      CN   \n",
      "258620  173.208.220.245            9     2        Spamming      US   \n",
      "258621  179.244.194.219            4     2        Spamming      BR   \n",
      "258622   216.99.159.166            4     2   Scanning Host      US   \n",
      "258623   216.99.159.169            3     2   Scanning Host      US   \n",
      "258624   216.99.159.176            3     2   Scanning Host      US   \n",
      "258625   216.99.159.117            3     3   Scanning Host      US   \n",
      "\n",
      "             Locale                         Coords   x  \n",
      "0            Xiamen     24.4797992706,118.08190155  11  \n",
      "1            Xiamen     24.4797992706,118.08190155  11  \n",
      "2            Xiamen     24.4797992706,118.08190155  11  \n",
      "3               NaN                     38.0,-97.0  12  \n",
      "4            Merefa    49.8230018616,36.0507011414  11  \n",
      "5        Union City   37.5962982178,-122.065696716  11  \n",
      "6            Xiamen     24.4797992706,118.08190155  11  \n",
      "7            Xiamen     24.4797992706,118.08190155  11  \n",
      "8            Xiamen     24.4797992706,118.08190155  11  \n",
      "9               NaN     24.4797992706,118.08190155  12  \n",
      "10       Union City   37.5962982178,-122.065696716  11  \n",
      "11              NaN                       51.0,9.0  11  \n",
      "12              NaN                       51.0,9.0  11  \n",
      "13              NaN                       51.0,9.0  11  \n",
      "14              NaN                       51.0,9.0  11  \n",
      "15              NaN                     37.0,127.5  11  \n",
      "16              NaN                     37.0,127.5  11  \n",
      "17              NaN                     37.0,127.5  11  \n",
      "18              NaN                     37.0,127.5  11  \n",
      "19              NaN                     37.0,127.5  11  \n",
      "20          Nanjing    32.0616989136,118.777801514  11  \n",
      "21          Nanjing    32.0616989136,118.777801514  11  \n",
      "22           Foshan    23.0268001556,113.131500244  11  \n",
      "23              NaN                    -10.0,-55.0  11  \n",
      "24         Nanchang    28.5499992371,115.933296204  11  \n",
      "25         Nanchang    28.5499992371,115.933296204  11  \n",
      "26           Merefa    49.8230018616,36.0507011414  11  \n",
      "27              NaN                      52.5,5.75   7  \n",
      "28              NaN                       51.0,9.0  11  \n",
      "29              NaN                       51.0,9.0  11  \n",
      "...             ...                            ...  ..  \n",
      "258596     Helsinki    60.1755981445,24.9342002869  11  \n",
      "258597     Helsinki    60.1755981445,24.9342002869  11  \n",
      "258598     Istanbul    41.0186004639,28.9647006989  11  \n",
      "258599      Beijing    39.9289016724,116.388298035   6  \n",
      "258600      Nanjing    32.0616989136,118.777801514  11  \n",
      "258601     Helsinki    60.1755981445,24.9342002869  11  \n",
      "258602     Helsinki    60.1755981445,24.9342002869  11  \n",
      "258603     Istanbul    41.0186004639,28.9647006989  11  \n",
      "258604     Istanbul    41.0186004639,28.9647006989  11  \n",
      "258605        Hefei     31.863899231,117.280799866  11  \n",
      "258606     Istanbul    41.0186004639,28.9647006989  11  \n",
      "258607          NaN                      20.0,77.0  11  \n",
      "258608     Helsinki    60.1755981445,24.9342002869  11  \n",
      "258609      Tucuman  -26.8241004944,-65.2226028442  11  \n",
      "258610      Tucuman  -26.8241004944,-65.2226028442  11  \n",
      "258611      Tucuman  -26.8241004944,-65.2226028442  11  \n",
      "258612     Helsinki    60.1755981445,24.9342002869  11  \n",
      "258613          NaN    60.1755981445,24.9342002869   6  \n",
      "258614      Kharkov    49.9808006287,36.2527008057   6  \n",
      "258615     Helsinki    60.1755981445,24.9342002869  11  \n",
      "258616     Helsinki    60.1755981445,24.9342002869  11  \n",
      "258617    Ann Arbor   42.2775993347,-83.7408981323  12  \n",
      "258618      Beijing    39.9289016724,116.388298035  11  \n",
      "258619      Beijing    39.9289016724,116.388298035  11  \n",
      "258620  Kansas City   39.1068000793,-94.5660018921  12  \n",
      "258621          NaN                    -10.0,-55.0  12  \n",
      "258622       Walnut   34.0115013123,-117.853500366  11  \n",
      "258623       Walnut   34.0115013123,-117.853500366  11  \n",
      "258624       Walnut   34.0115013123,-117.853500366  11  \n",
      "258625       Walnut   34.0115013123,-117.853500366  11  \n",
      "\n",
      "[258626 rows x 8 columns]\n"
     ]
    }
   ],
   "source": [
    "print(av)"
   ]
  },
  {
   "cell_type": "code",
   "execution_count": 4,
   "metadata": {},
   "outputs": [
    {
     "name": "stdout",
     "output_type": "stream",
     "text": [
      ",IP,Reliability,Risk,Type,Country,Locale,Coords,x\n",
      "0,222.76.212.189,4,2,Scanning Host,CN,Xiamen,\"24.4797992706,118.08190155\",11\n",
      "1,222.76.212.185,4,2,Scanning Host,CN,Xiamen,\"24.4797992706,118.08190155\",11\n",
      "2,222.76.212.186,4,2,Scanning Host,CN,Xiamen,\"24.4797992706,118.08190155\",11\n",
      "3,5.34.246.67,6,3,Spamming,US,,\"38.0,-97.0\",12\n",
      "4,178.94.97.176,4,5,Scanning Host,UA,Merefa,\"49.8230018616,36.0507011414\",11\n"
     ]
    }
   ],
   "source": [
    "av.head().to_csv(sys.stdout)"
   ]
  },
  {
   "cell_type": "code",
   "execution_count": 5,
   "metadata": {},
   "outputs": [
    {
     "data": {
      "text/html": [
       "<table border=\"1\" class=\"dataframe\">\n",
       "  <thead>\n",
       "    <tr style=\"text-align: right;\">\n",
       "      <th></th>\n",
       "      <th>IP</th>\n",
       "      <th>Reliability</th>\n",
       "      <th>Risk</th>\n",
       "      <th>Type</th>\n",
       "      <th>Country</th>\n",
       "      <th>Locale</th>\n",
       "      <th>Coords</th>\n",
       "      <th>x</th>\n",
       "    </tr>\n",
       "  </thead>\n",
       "  <tbody>\n",
       "    <tr>\n",
       "      <th>0</th>\n",
       "      <td>222.76.212.189</td>\n",
       "      <td>4</td>\n",
       "      <td>2</td>\n",
       "      <td>Scanning Host</td>\n",
       "      <td>CN</td>\n",
       "      <td>Xiamen</td>\n",
       "      <td>24.4797992706,118.08190155</td>\n",
       "      <td>11</td>\n",
       "    </tr>\n",
       "    <tr>\n",
       "      <th>1</th>\n",
       "      <td>222.76.212.185</td>\n",
       "      <td>4</td>\n",
       "      <td>2</td>\n",
       "      <td>Scanning Host</td>\n",
       "      <td>CN</td>\n",
       "      <td>Xiamen</td>\n",
       "      <td>24.4797992706,118.08190155</td>\n",
       "      <td>11</td>\n",
       "    </tr>\n",
       "    <tr>\n",
       "      <th>2</th>\n",
       "      <td>222.76.212.186</td>\n",
       "      <td>4</td>\n",
       "      <td>2</td>\n",
       "      <td>Scanning Host</td>\n",
       "      <td>CN</td>\n",
       "      <td>Xiamen</td>\n",
       "      <td>24.4797992706,118.08190155</td>\n",
       "      <td>11</td>\n",
       "    </tr>\n",
       "    <tr>\n",
       "      <th>3</th>\n",
       "      <td>5.34.246.67</td>\n",
       "      <td>6</td>\n",
       "      <td>3</td>\n",
       "      <td>Spamming</td>\n",
       "      <td>US</td>\n",
       "      <td>NaN</td>\n",
       "      <td>38.0,-97.0</td>\n",
       "      <td>12</td>\n",
       "    </tr>\n",
       "    <tr>\n",
       "      <th>4</th>\n",
       "      <td>178.94.97.176</td>\n",
       "      <td>4</td>\n",
       "      <td>5</td>\n",
       "      <td>Scanning Host</td>\n",
       "      <td>UA</td>\n",
       "      <td>Merefa</td>\n",
       "      <td>49.8230018616,36.0507011414</td>\n",
       "      <td>11</td>\n",
       "    </tr>\n",
       "    <tr>\n",
       "      <th>5</th>\n",
       "      <td>66.2.49.232</td>\n",
       "      <td>4</td>\n",
       "      <td>2</td>\n",
       "      <td>Scanning Host</td>\n",
       "      <td>US</td>\n",
       "      <td>Union City</td>\n",
       "      <td>37.5962982178,-122.065696716</td>\n",
       "      <td>11</td>\n",
       "    </tr>\n",
       "    <tr>\n",
       "      <th>6</th>\n",
       "      <td>222.76.212.173</td>\n",
       "      <td>4</td>\n",
       "      <td>2</td>\n",
       "      <td>Scanning Host</td>\n",
       "      <td>CN</td>\n",
       "      <td>Xiamen</td>\n",
       "      <td>24.4797992706,118.08190155</td>\n",
       "      <td>11</td>\n",
       "    </tr>\n",
       "    <tr>\n",
       "      <th>7</th>\n",
       "      <td>222.76.212.172</td>\n",
       "      <td>4</td>\n",
       "      <td>2</td>\n",
       "      <td>Scanning Host</td>\n",
       "      <td>CN</td>\n",
       "      <td>Xiamen</td>\n",
       "      <td>24.4797992706,118.08190155</td>\n",
       "      <td>11</td>\n",
       "    </tr>\n",
       "    <tr>\n",
       "      <th>8</th>\n",
       "      <td>222.76.212.171</td>\n",
       "      <td>4</td>\n",
       "      <td>2</td>\n",
       "      <td>Scanning Host</td>\n",
       "      <td>CN</td>\n",
       "      <td>Xiamen</td>\n",
       "      <td>24.4797992706,118.08190155</td>\n",
       "      <td>11</td>\n",
       "    </tr>\n",
       "    <tr>\n",
       "      <th>9</th>\n",
       "      <td>174.142.46.19</td>\n",
       "      <td>6</td>\n",
       "      <td>3</td>\n",
       "      <td>Spamming</td>\n",
       "      <td>NaN</td>\n",
       "      <td>NaN</td>\n",
       "      <td>24.4797992706,118.08190155</td>\n",
       "      <td>12</td>\n",
       "    </tr>\n",
       "  </tbody>\n",
       "</table>"
      ],
      "text/plain": [
       "<IPython.core.display.HTML object>"
      ]
     },
     "execution_count": 5,
     "metadata": {},
     "output_type": "execute_result"
    }
   ],
   "source": [
    "HTML(av.head(10).to_html())"
   ]
  },
  {
   "cell_type": "code",
   "execution_count": 6,
   "metadata": {},
   "outputs": [
    {
     "data": {
      "text/plain": [
       "count    258626.000000\n",
       "mean          2.798040\n",
       "std           1.130419\n",
       "min           1.000000\n",
       "25%           2.000000\n",
       "50%           2.000000\n",
       "75%           4.000000\n",
       "max          10.000000\n",
       "Name: Reliability, dtype: float64"
      ]
     },
     "execution_count": 6,
     "metadata": {},
     "output_type": "execute_result"
    }
   ],
   "source": [
    "av[\"Reliability\"].describe()"
   ]
  },
  {
   "cell_type": "code",
   "execution_count": 7,
   "metadata": {},
   "outputs": [
    {
     "data": {
      "text/plain": [
       "count    258626.000000\n",
       "mean          2.221362\n",
       "std           0.531571\n",
       "min           1.000000\n",
       "25%           2.000000\n",
       "50%           2.000000\n",
       "75%           2.000000\n",
       "max           7.000000\n",
       "Name: Risk, dtype: float64"
      ]
     },
     "execution_count": 7,
     "metadata": {},
     "output_type": "execute_result"
    }
   ],
   "source": [
    "av[\"Risk\"].describe()"
   ]
  },
  {
   "cell_type": "code",
   "execution_count": 8,
   "metadata": {
    "collapsed": true
   },
   "outputs": [],
   "source": [
    "def factor_col(col):\n",
    "    factor = pd.Categorical(col)\n",
    "    return pd.value_counts(factor,sort=True).reindex(factor.categories)\n",
    "rel_ct = pd.value_counts(av['Reliability'])\n",
    "risk_ct = pd.value_counts(av['Risk'])\n",
    "type_ct = pd.value_counts(av['Type'])\n",
    "country_ct = pd.value_counts(av['Country'])"
   ]
  },
  {
   "cell_type": "code",
   "execution_count": 9,
   "metadata": {},
   "outputs": [
    {
     "name": "stdout",
     "output_type": "stream",
     "text": [
      "1       5612\n",
      "2     149117\n",
      "3      10892\n",
      "4      87040\n",
      "5          7\n",
      "6       4758\n",
      "7        297\n",
      "8         21\n",
      "9        686\n",
      "10       196\n",
      "dtype: int64\n"
     ]
    }
   ],
   "source": [
    "print(factor_col(av['Reliability']))"
   ]
  },
  {
   "cell_type": "code",
   "execution_count": 11,
   "metadata": {},
   "outputs": [
    {
     "name": "stdout",
     "output_type": "stream",
     "text": [
      "1        39\n",
      "2    213852\n",
      "3     33719\n",
      "4      9588\n",
      "5      1328\n",
      "6        90\n",
      "7        10\n",
      "dtype: int64\n"
     ]
    }
   ],
   "source": [
    "print(factor_col(av['Risk']))"
   ]
  },
  {
   "cell_type": "code",
   "execution_count": 12,
   "metadata": {
    "collapsed": true
   },
   "outputs": [],
   "source": [
    "country_ct = pd.value_counts(av['Country'])"
   ]
  },
  {
   "cell_type": "code",
   "execution_count": 13,
   "metadata": {},
   "outputs": [
    {
     "data": {
      "image/png": "[encoded data removed]",
      "text/plain": [
       "<matplotlib.figure.Figure at 0x10d77aa90>"
      ]
     },
     "metadata": {},
     "output_type": "display_data"
    }
   ],
   "source": [
    "plt.axes(frameon=0) # reduce chart junk\n",
    "country_ct[:20].plot(kind='bar', \n",
    "   rot=0, title=\"Summary By Country\", figsize=(8,5)).grid(False)"
   ]
  },
  {
   "cell_type": "code",
   "execution_count": 14,
   "metadata": {},
   "outputs": [
    {
     "data": {
      "image/png": "[encoded data removed]",
      "text/plain": [
       "<matplotlib.figure.Figure at 0x111b09fd0>"
      ]
     },
     "metadata": {},
     "output_type": "display_data"
    }
   ],
   "source": [
    "plt.axes(frameon=0) # reduce chart junk\n",
    "factor_col(av['Reliability']).plot(kind='bar', rot=0,\n",
    "           title=\"Summary By 'Reliability'\", figsize=(8,5)).grid(False)"
   ]
  },
  {
   "cell_type": "code",
   "execution_count": 15,
   "metadata": {},
   "outputs": [
    {
     "data": {
      "image/png": "[encoded data removed]",
      "text/plain": [
       "<matplotlib.figure.Figure at 0x112b187b8>"
      ]
     },
     "metadata": {},
     "output_type": "display_data"
    }
   ],
   "source": [
    "plt.axes(frameon=0) # reduce chart junk\n",
    "factor_col(av['Risk']).plot(kind='bar', rot=0, \n",
    "           title=\"Summary By 'Risk'\", figsize=(8,5)).grid(False)"
   ]
  },
  {
   "cell_type": "code",
   "execution_count": 16,
   "metadata": {},
   "outputs": [
    {
     "data": {
      "text/plain": [
       "CN    0.265182\n",
       "US    0.194826\n",
       "TR    0.053970\n",
       "DE    0.038484\n",
       "NL    0.030666\n",
       "RU    0.024537\n",
       "GB    0.024332\n",
       "IN    0.021189\n",
       "FR    0.021069\n",
       "Name: Country, dtype: float64"
      ]
     },
     "execution_count": 16,
     "metadata": {},
     "output_type": "execute_result"
    }
   ],
   "source": [
    "top10 = pd.value_counts(av['Country'])[0:9] \n",
    "top10.astype(float) / len(av['Country'])"
   ]
  }
 ],
 "metadata": {
  "kernelspec": {
   "display_name": "Python 3",
   "language": "python",
   "name": "python3"
  },
  "language_info": {
   "codemirror_mode": {
    "name": "ipython",
    "version": 3
   },
   "file_extension": ".py",
   "mimetype": "text/x-python",
   "name": "python",
   "nbconvert_exporter": "python",
   "pygments_lexer": "ipython3",
   "version": "3.6.1"
  }
 },
 "nbformat": 4,
 "nbformat_minor": 2
}
