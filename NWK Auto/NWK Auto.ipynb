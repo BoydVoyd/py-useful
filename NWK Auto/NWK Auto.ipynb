{
 "cells": [
  {
   "cell_type": "code",
   "execution_count": null,
   "metadata": {
    "collapsed": true
   },
   "outputs": [],
   "source": [
    "from jinja2 import Environment, FileSystemLoader\n",
    "import yaml\n",
    "from bracket_expansion import *\n",
    "\n",
    "ENV = Environment(loader=FileSystemLoader('./templates/'))\n",
    "\n",
    "\n",
    "# To keep the python portion as simple as possible, I am passing all\n",
    "# of our variable data in under a big dictionary. So we have to refer\n",
    "# to them with the config.key notation.\n",
    "# In the next section, Ansible allows us to refer to variables directly.\n",
    "\n",
    "def gen(filename):\n",
    "\n",
    "    print('-------------------')\n",
    "    print('')\n",
    "    with open('vars/' + filename + '.yml') as _:\n",
    "        varfile = yaml.load(_)\n",
    "        template = ENV.get_template(filename + \".j2\")\n",
    "        print(template.render(config=varfile))\n",
    "\n",
    "gen('1-basicloop')\n",
    "\n",
    "gen('2-iterdict')\n",
    "\n",
    "gen('3-conditional')\n",
    "\n",
    "gen('4-advobjects')\n",
    "\n",
    "gen('5-childtemplates')\n",
    "\n",
    "gen('6-inlinevars')\n",
    "\n",
    "ENV.filters['bracket_expansion'] = bracket_expansion\n",
    "template2 = ENV.get_template('7-customfilter.j2')\n",
    "print template2.render(iface_pattern='GigabitEthernet0/0/[0-5]', vlan_name=100)"
   ]
  }
 ],
 "metadata": {
  "kernelspec": {
   "display_name": "Python 3",
   "language": "python",
   "name": "python3"
  },
  "language_info": {
   "codemirror_mode": {
    "name": "ipython",
    "version": 3
   },
   "file_extension": ".py",
   "mimetype": "text/x-python",
   "name": "python",
   "nbconvert_exporter": "python",
   "pygments_lexer": "ipython3",
   "version": "3.6.2"
  }
 },
 "nbformat": 4,
 "nbformat_minor": 2
}
